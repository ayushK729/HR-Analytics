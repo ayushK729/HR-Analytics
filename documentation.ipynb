{
 "cells": [
  {
   "cell_type": "markdown",
   "metadata": {},
   "source": [
    "<p style=\"text-align: center; font-size: 38px;\"><strong>HR Analytics Project</strong></p>"
   ]
  },
  {
   "cell_type": "markdown",
   "metadata": {},
   "source": [
    "<br><br>\n",
    "<div style=\"font-family: Arial, sans-serif; font-size: 19px;\">\n",
    "    <h3><strong>Problem Statement</strong></h3>\n",
    "</div>\n",
    "\n",
    "<div style=\"font-family: Arial, sans-serif; font-size: 17px; line-height: 25px;\">\n",
    "    <p>AtliQ Hardwares is a company specializing in the sales of hardware products, providing services across India. Recently, the company observed a decline in overall productivity, prompting a closer look at employee attendance patterns. During a meeting, irregular trends in employee presence were identified, which led the HR department to investigate further.</p>\n",
    "    <p>Upon reviewing the attendance records, it became apparent that, while the company maintained basic attendance data, there was a lack of in-depth analysis regarding employee work preferences, absenteeism due to illness, and the potential seasonal factors influencing attendance.</p>\n",
    "    <p>To address this, the HR department tasked the Data Analysis team with developing a comprehensive dashboard to better understand these attendance trends. The team was provided with attendance data for AtliQ employees from April 2022 to May 2022 to conduct this analysis.</p>\n",
    "</div>\n"
   ]
  },
  {
   "cell_type": "markdown",
   "metadata": {},
   "source": [
    "<br>\n",
    "<div style=\"font-family: Arial, sans-serif; font-size: 19px;\">\n",
    "    <h3><strong>Project Goals</strong></h3>\n",
    "</div>\n",
    "<div style=\"font-family: Arial, sans-serif; font-size: 17px; line-height: 25px;\">\n",
    "    <ul>\n",
    "        <li>Analyze employees' work preferences, including their preferred work arrangements and schedules.</li>\n",
    "        <li>Identify the preferred day(s) of the week for taking Work From Home (WFH) days, if applicable.</li>\n",
    "        <li>Assess the percentage of sick leave taken by employees to understand overall health trends.</li>\n",
    "        <li>Investigate the correlation between employee leave patterns and seasonal illnesses, such as flu or dengue, to determine if there is a seasonal impact on absenteeism.</li>\n",
    "    </ul>\n",
    "</div>\n",
    "<br>\n"
   ]
  },
  {
   "cell_type": "markdown",
   "metadata": {},
   "source": [
    "<div style=\"font-family: Arial, sans-serif; font-size: 19px;\">\n",
    "    <h3><strong>Data Overview</strong></h3>\n",
    "</div>\n",
    "<div style=\"font-family: Arial, sans-serif; font-size: 16px; line-height: 25px; \">\n",
    "    <p>The dataset comprises a three-month attendance record for employees at AtliQ Hardwares. It includes the following key information for each employee:</p>\n",
    "    <ul>\n",
    "        <li><strong>Employee Code:</strong> A unique identifier for each employee.</li>\n",
    "        <li><strong>Employee Name:</strong> The name of the employee.</li>\n",
    "        <li><strong>Attendance Status:</strong> Records indicating the presence or absence of the employee in the office.</li>\n",
    "        <li><strong>Monthly Statistics:</strong> Detailed attendance data for each employee, including the number of days worked, leave taken, and other relevant metrics.</li>\n",
    "    </ul>\n",
    "    <p>This data will be used to analyze attendance patterns and generate insights regarding employee work behaviors.</p>\n",
    "</div>"
   ]
  },
  {
   "cell_type": "markdown",
   "metadata": {},
   "source": [
    "<br>\n",
    "<div style=\"font-family: Arial, sans-serif; font-size: 19px;\">\n",
    "    <h3><strong>Issues and Solutions in Data Transformation</strong></h3>\n",
    "</div>\n",
    "<br>\n",
    "<div style=\"font-family: Arial, sans-serif; font-size: 17px; margin-left: 15px; line-height: 25px;\">\n",
    "    <h4>Issue 1: Column Name Corruption During Worksheet Merge</h4>\n",
    "    <p>When attempting to merge all three worksheets into a single file, the column names were corrupted, as the original column names were retained from the previous worksheets. This resulted in a messy dataset that was not suitable for further analysis.</p>\n",
    "    <h5>Solution:</h5>\n",
    "    <p>To address this issue, we designed a template in Power BI to merge the current and future attendance worksheets into a unified data table. The following steps were taken:</p>\n",
    "    <ul>\n",
    "        <li><strong>Template Creation:</strong> We began by duplicating the table structure to create a new template.</li>\n",
    "        <li><strong>Selecting Base Table:</strong> We selected one table from the three available worksheets (April, May, and June) to serve as the base for the template.</li>\n",
    "        <li><strong>Promoting Column Headers:</strong> The row containing column names was promoted to header status.</li>\n",
    "        <li><strong>Removing Unnecessary Data:</strong> The first row, containing the employee code, was removed as it was irrelevant to the data structure.</li>\n",
    "        <li><strong>Renaming Columns:</strong> We renamed the columns to their proper names to ensure consistency and clarity.</li>\n",
    "        <li><strong>Unpivoting Data:</strong> The employee code and name columns were selected, while the other columns were unpivoted using Power BI’s “Unpivot Column” option to normalize the data.</li>\n",
    "        <li><strong>Function Creation:</strong> A function with parameters based on the template was created to apply this transformation to future data, making it possible to seamlessly arrange new data in a more usable format.</li>\n",
    "    </ul>\n",
    "    <h4>Issue 2: Monthly Leave Statistics Included Post-Pivot</h4>\n",
    "    <p>After performing the pivot operation, the table contained monthly leave statistics, which were not relevant to the transformed data and cluttered the dataset.</p>\n",
    "    <h5>Solution:</h5>\n",
    "    <ul>\n",
    "        <li>The data type for the relevant columns was set to “Date”</li>\n",
    "        <li>Errors were removed by right-clicking the column and selecting \"Remove Errors,\" ensuring that any unforeseen data would be easily handled in the future.</li>\n",
    "    </ul>\n",
    "    <h4>Issue 3: Date Entries Displayed as ###### Post-Transformation</h4>\n",
    "    <p>Following the data transformation, the date entries were displayed as \"######\" instead of the expected date format, which indicated a data type issue.</p>\n",
    "    <h5>Solution:</h5>\n",
    "    <ul>\n",
    "        <li>The data type of the date column was changed to \"Date\"</li>\n",
    "        <li>A copy of the original date column was created and formatted to display the date in the “MMM YY” format.</li>\n",
    "        <li>The new date column was renamed as “Month” to provide a cleaner, more readable format for the transformed data.</li>\n",
    "    </ul>\n",
    "    <p>These solutions streamlined the data transformation process, enabling us to handle the current and future attendance data efficiently and effectively within Power BI.</p>\n",
    "</div>\n"
   ]
  },
  {
   "cell_type": "markdown",
   "metadata": {},
   "source": [
    "\n",
    "\n",
    "<br>\n",
    "<div style=\"font-family: Arial, sans-serif; font-size: 19px;\">\n",
    "    <h3><strong>Measures</strong></h3>\n",
    "</div>\n",
    "<br>\n",
    "<div style=\"font-family: Arial, sans-serif; font-size: 17px; line-height: 25px;\">\n",
    "    <p>A table named <strong>Measures</strong> was created to perform specific calculations related to employee attendance and work patterns. The following measures were added to the table:</p>\n",
    "    <ul>\n",
    "        <li><strong>TWD (Total Working Days):</strong> Calculates the total number of working days within a given time period.</li>\n",
    "        <li><strong>Present:</strong> Calculates the total number of employees present in the office on any given day.</li>\n",
    "        <li><strong>Present %:</strong> Determines the percentage of employees present in the office relative to the total number of employees.</li>\n",
    "        <li><strong>WFH Count:</strong> Calculates the total number of employees working from home or engaging in half-day work-from-home arrangements.</li>\n",
    "        <li><strong>WFH %:</strong> Computes the percentage of employees working from home or participating in half-day work-from-home arrangements compared to the total employee base.</li>\n",
    "        <li><strong>Sick Leave Count:</strong> Calculates the total number of employees on sick leave or engaged in half-day sick leave.</li>\n",
    "        <li><strong>Sick Leave %:</strong> Determines the percentage of employees on sick leave or participating in half-day sick leave relative to the overall workforce.</li>\n",
    "    </ul>\n",
    "    <p>These measures were essential for analyzing various aspects of employee attendance and work habits, enabling a comprehensive understanding of attendance patterns.</p>\n",
    "</div>\n"
   ]
  },
  {
   "cell_type": "markdown",
   "metadata": {},
   "source": [
    "<div style=\"font-family: Arial, sans-serif; font-size: 19px;\">\n",
    "    <h3><strong>Conclusion</strong></h3>\n",
    "</div>\n",
    "<div style=\"font-family: Arial, sans-serif; font-size: 17px; line-height: 25px;\">\n",
    "    <p>The analysis of employee attendance and work patterns at AtliQ Hardwares was successfully conducted using three months of attendance data. A comprehensive dashboard was developed to provide a deeper understanding of the underlying factors influencing employee attendance and productivity.</p>\n",
    "    <p>The dashboard delivers valuable insights into employee productivity trends and absenteeism, serving as a foundation for informed, data-driven decision-making in workforce management.</p>\n",
    "</div>\n"
   ]
  },
  {
   "cell_type": "markdown",
   "metadata": {},
   "source": []
  }
 ],
 "metadata": {
  "language_info": {
   "name": "python"
  }
 },
 "nbformat": 4,
 "nbformat_minor": 2
}
